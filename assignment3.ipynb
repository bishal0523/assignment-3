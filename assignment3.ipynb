{
 "cells": [
  {
   "cell_type": "code",
   "execution_count": 7,
   "id": "1f731a1d-bfdb-4baf-ad69-07774cb43a87",
   "metadata": {},
   "outputs": [
    {
     "name": "stdout",
     "output_type": "stream",
     "text": [
      "[1, 3, 5, 7, 9, 11, 13, 15, 17, 19, 21, 23, 25]\n"
     ]
    }
   ],
   "source": [
    "#assignment 3\n",
    "#Q1.Which Keyword is used to create a function?create a function to return the list of odd numbers in the range 1 to 25.\n",
    "#ans.in python the keyword which is used to create a function is \"def\".\n",
    "def get_odd_numbers():\n",
    "    odd_numbers=[]\n",
    "    for num in range(1,26):\n",
    "        if num%2 !=0:\n",
    "            odd_numbers.append(num)\n",
    "    return odd_numbers\n",
    "result=get_odd_numbers()\n",
    "print(result)"
   ]
  },
  {
   "cell_type": "code",
   "execution_count": 8,
   "id": "bc07cf5d-2ac3-406a-9ef6-fd8500d79e64",
   "metadata": {},
   "outputs": [
    {
     "name": "stdout",
     "output_type": "stream",
     "text": [
      "15\n",
      "name: John\n",
      "age: 30\n",
      "city: New York\n"
     ]
    }
   ],
   "source": [
    "#Q2.Why *args and **kwargs is used in some functions?create a function each for *args and **kwargs to  demonstrate their use.\n",
    "#ans.*args and **kwargs*args is used to pass a variable number of non-keyword arguments to a function. It allows you to pass multiple arguments without specifying their names. The *args parameter collects any additional positional arguments into a tuple within the function.\n",
    "def sum_numbers(*args):\n",
    "    total = 0\n",
    "    for num in args:\n",
    "        total += num\n",
    "    return total\n",
    "\n",
    "result = sum_numbers(1, 2, 3, 4, 5)\n",
    "print(result)  # Output: 15\n",
    "\n",
    "#In this example, the sum_numbers() function accepts any number of arguments and adds them up by iterating over the args tuple.\n",
    "\n",
    "#**kwargs is used to pass a variable number of keyword arguments to a function. It allows you to pass key-value pairs without specifying their names. The **kwargs parameter collects any additional keyword arguments into a dictionary within the function.\n",
    "\n",
    "#Here's an example of a function that demonstrates the use of **kwargs:\n",
    "\n",
    "def print_person_details(**kwargs):\n",
    "    for key, value in kwargs.items():\n",
    "        print(f\"{key}: {value}\")\n",
    "\n",
    "print_person_details(name=\"John\", age=30, city=\"New York\")\n",
    "\n",
    "#In this example, the print_person_details() function accepts multiple keyword arguments and prints them out. The kwargs dictionary allows you to access the keyword arguments by their respective names and values.\n",
    "\n",
    "#When using *args and **kwargs together in a function definition, *args should come before **kwargs in the parameter list. This allows you to pass both positional and keyword arguments to the function."
   ]
  },
  {
   "cell_type": "code",
   "execution_count": 12,
   "id": "5bab7b83-acdd-4bf2-b651-cda47ff5fa47",
   "metadata": {},
   "outputs": [
    {
     "name": "stdout",
     "output_type": "stream",
     "text": [
      "2\n",
      "4\n",
      "6\n",
      "8\n",
      "10\n"
     ]
    }
   ],
   "source": [
    "#Q3.What is an iterator in python?name the method used to initialise the iterator object and the method used for iteration.\n",
    "#use these methods print the first five elements of the given list [2,4,6,8,10,12,14,16,18,20]\n",
    "#ans.In Python, an iterator is an object that implements the iterator protocol, which consists of the __iter__() and __next__() methods. Iterators are used to loop over a sequence of elements, such as lists, tuples, or custom-defined objects, allowing you to access each element one at a time.\n",
    "\n",
    "#The __iter__() method is used to initialize an iterator object. It returns the iterator object itself and is called when you create an iterator for a particular iterable. This method is responsible for any setup that needs to be done before starting the iteration.\n",
    "#The __next__() method is used for iteration. It returns the next element from the iterator. If there are no more elements, it raises the StopIteration exception.\n",
    "\n",
    "#Here's an example that demonstrates how to initialize an iterator object and iterate over the first five elements of the given list [2, 4, 6, 8, 10, 12, 14, 16, 18, 20]:\n",
    "my_list = [2, 4, 6, 8, 10, 12, 14, 16, 18, 20]\n",
    "my_iterator = iter(my_list)\n",
    "\n",
    "for _ in range(5):\n",
    "    element = next(my_iterator)\n",
    "    print(element)\n"
   ]
  },
  {
   "cell_type": "code",
   "execution_count": 13,
   "id": "5deada5a-7b33-43a4-8631-142747ebccf4",
   "metadata": {},
   "outputs": [
    {
     "name": "stdout",
     "output_type": "stream",
     "text": [
      "0\n",
      "2\n",
      "4\n",
      "6\n",
      "8\n",
      "10\n"
     ]
    }
   ],
   "source": [
    "#4.what is a generator function in python?why yield keyword is used?give an example of genertator function.\n",
    "#ansIn Python, a generator function is a special type of function that uses the yield keyword instead of return. It allows you to define an iterator in a more concise and efficient way. When a generator function is called, it returns a generator object, which can be iterated over to retrieve values one at a time.\n",
    "\n",
    "#The yield keyword is used in a generator function to specify the values to be yielded or returned one at a time. When the yield statement is encountered, the function's state is saved, and the yielded value is returned. The next time the generator is iterated, it resumes execution from where it left off, maintaining its internal state.\n",
    "#One advantage of using a generator function with yield is that it generates values on the fly, rather than generating and storing all values in memory at once. This makes generators memory-efficient, especially when dealing with large data sets or infinite sequences.\n",
    "\n",
    "#Here's an example of a generator function that generates a sequence of even numbers up to a given limit:\n",
    "def even_numbers(limit):\n",
    "    num = 0\n",
    "    while num <= limit:\n",
    "        yield num\n",
    "        num += 2\n",
    "\n",
    "# Using the generator function\n",
    "even_nums = even_numbers(10)\n",
    "\n",
    "for num in even_nums:\n",
    "    print(num)\n",
    "\n",
    "#In this example, the even_numbers() function is a generator function that yields even numbers up to the given limit. It starts with num initialized to 0 and repeatedly yields num while incrementing it by 2 in each iteration.\n",
    "\n",
    "#When the generator function is called, it returns a generator object even_nums. The for loop then iterates over the generator object, printing each even number generated by the yield statement. The generator function maintains its internal state between iterations, allowing it to yield the next value in the sequence when requested."
   ]
  },
  {
   "cell_type": "code",
   "execution_count": 14,
   "id": "5d1d90ad-e00d-42ab-9ed6-55566692468c",
   "metadata": {},
   "outputs": [
    {
     "name": "stdout",
     "output_type": "stream",
     "text": [
      "0\n",
      "1\n",
      "2\n",
      "3\n",
      "4\n",
      "5\n",
      "6\n",
      "7\n",
      "8\n",
      "9\n",
      "10\n",
      "11\n",
      "12\n",
      "13\n",
      "14\n",
      "15\n",
      "16\n",
      "17\n",
      "18\n",
      "19\n"
     ]
    }
   ],
   "source": [
    "#Q5.Create a generator function for numbers less than 1000.use the next() method to print the first 20 numbers\n",
    "#ans here an example of generator function for numbers less than 1000 by using the next() method to print the first twenty numbers\n",
    "def numbers_less_than_1000():\n",
    "    num = 0\n",
    "    while num < 1000:\n",
    "        yield num\n",
    "        num += 1\n",
    "\n",
    "# Using the generator function\n",
    "number_generator = numbers_less_than_1000()\n",
    "\n",
    "for _ in range(20):\n",
    "    number = next(number_generator)\n",
    "    print(number)\n"
   ]
  },
  {
   "cell_type": "code",
   "execution_count": 15,
   "id": "3933849b-5cae-4879-b8b7-f04400e71422",
   "metadata": {},
   "outputs": [
    {
     "name": "stdout",
     "output_type": "stream",
     "text": [
      "0\n",
      "1\n",
      "1\n",
      "2\n",
      "3\n",
      "5\n",
      "8\n",
      "13\n",
      "21\n",
      "34\n"
     ]
    }
   ],
   "source": [
    "#Q6.Write a python progran to print the first 10 fibonacci numbers using a while loop.\n",
    "#ans.Certainly! Here's a Python program that prints the first 10 Fibonacci numbers using a while loop:\n",
    "def print_fibonacci():\n",
    "    num1,num2=0,1\n",
    "    count=0\n",
    "    while count<10:\n",
    "        print(num1)\n",
    "        num3=num1+num2\n",
    "        num1,num2=num2,num3\n",
    "        count=count+1\n",
    "print_fibonacci()\n",
    "        "
   ]
  },
  {
   "cell_type": "code",
   "execution_count": 16,
   "id": "2f70f5eb-2916-40fb-83be-689def97a0f8",
   "metadata": {},
   "outputs": [
    {
     "name": "stdout",
     "output_type": "stream",
     "text": [
      "['p', 'w', 's', 'k', 'i', 'l', 'l', 's']\n"
     ]
    }
   ],
   "source": [
    "#Q7.write a list comprehension to iterate through the given string:'pwskills'.expected output:['p','w','s','k','i','l','l','s']\n",
    "#ans.\n",
    "string = 'pwskills'\n",
    "output = [char for char in string]\n",
    "print(output)\n"
   ]
  },
  {
   "cell_type": "code",
   "execution_count": 18,
   "id": "90c8dffa-1217-475e-8da0-55a4346b0ebf",
   "metadata": {},
   "outputs": [
    {
     "name": "stdin",
     "output_type": "stream",
     "text": [
      "Enter a number:  326\n"
     ]
    },
    {
     "name": "stdout",
     "output_type": "stream",
     "text": [
      "326 is not a palindrome.\n"
     ]
    }
   ],
   "source": [
    "#8.write a python program to check whether a given number is palindrome or not using a while loop\n",
    "#ans\n",
    "def is_palindrome(number):\n",
    "    original_number = number\n",
    "    reversed_number = 0\n",
    "\n",
    "    while number > 0:\n",
    "        remainder = number % 10\n",
    "        reversed_number = reversed_number * 10 + remainder\n",
    "        number = number // 10\n",
    "\n",
    "    if original_number == reversed_number:\n",
    "        return True\n",
    "    else:\n",
    "        return False\n",
    "\n",
    "# Test the function\n",
    "number = int(input(\"Enter a number: \"))\n",
    "if is_palindrome(number):\n",
    "    print(f\"{number} is a palindrome.\")\n",
    "else:\n",
    "    print(f\"{number} is not a palindrome.\")\n"
   ]
  },
  {
   "cell_type": "code",
   "execution_count": null,
   "id": "b11e97f7-32b2-48c5-bd10-33831e8e3af4",
   "metadata": {},
   "outputs": [],
   "source": [
    "#9.write a code to print odd numbers from 1 to 100 using list comprehension\n"
   ]
  }
 ],
 "metadata": {
  "kernelspec": {
   "display_name": "Python 3 (ipykernel)",
   "language": "python",
   "name": "python3"
  },
  "language_info": {
   "codemirror_mode": {
    "name": "ipython",
    "version": 3
   },
   "file_extension": ".py",
   "mimetype": "text/x-python",
   "name": "python",
   "nbconvert_exporter": "python",
   "pygments_lexer": "ipython3",
   "version": "3.10.8"
  }
 },
 "nbformat": 4,
 "nbformat_minor": 5
}
